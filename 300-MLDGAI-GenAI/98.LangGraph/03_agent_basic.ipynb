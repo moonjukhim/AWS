{
 "cells": [
  {
   "cell_type": "code",
   "execution_count": null,
   "metadata": {},
   "outputs": [],
   "source": [
    "from dotenv import load_dotenv\n",
    "\n",
    "load_dotenv()"
   ]
  },
  {
   "cell_type": "code",
   "execution_count": null,
   "metadata": {
    "execution": {
     "iopub.execute_input": "2025-06-14T13:22:47.335631Z",
     "iopub.status.busy": "2025-06-14T13:22:47.335131Z",
     "iopub.status.idle": "2025-06-14T13:22:47.397227Z",
     "shell.execute_reply": "2025-06-14T13:22:47.396455Z",
     "shell.execute_reply.started": "2025-06-14T13:22:47.335604Z"
    }
   },
   "outputs": [],
   "source": [
    "from langgraph.graph import END, START, StateGraph, MessagesState\n",
    "from langchain_core.tools import tool\n",
    "from langgraph.prebuilt import ToolNode\n",
    "from typing import Literal"
   ]
  },
  {
   "cell_type": "code",
   "execution_count": null,
   "metadata": {
    "execution": {
     "iopub.execute_input": "2025-06-14T13:22:56.822718Z",
     "iopub.status.busy": "2025-06-14T13:22:56.822192Z",
     "iopub.status.idle": "2025-06-14T13:22:56.829281Z",
     "shell.execute_reply": "2025-06-14T13:22:56.828703Z",
     "shell.execute_reply.started": "2025-06-14T13:22:56.822688Z"
    }
   },
   "outputs": [],
   "source": [
    "@tool\n",
    "def get_weather(location: str):\n",
    "    \"\"\"Call to get the current weather.\"\"\"\n",
    "    if location.lower() in [\"서울\"]:\n",
    "        return \"기온은 섭씨 15도이고 흐립니다.\"\n",
    "    else:\n",
    "        return \"기온은 섭씨 30도이고 화창합니다.\""
   ]
  },
  {
   "cell_type": "code",
   "execution_count": null,
   "metadata": {
    "execution": {
     "iopub.execute_input": "2025-06-14T13:23:10.012151Z",
     "iopub.status.busy": "2025-06-14T13:23:10.011870Z",
     "iopub.status.idle": "2025-06-14T13:23:10.023502Z",
     "shell.execute_reply": "2025-06-14T13:23:10.022809Z",
     "shell.execute_reply.started": "2025-06-14T13:23:10.012128Z"
    }
   },
   "outputs": [],
   "source": [
    "get_weather.invoke(input={\"location\": \"서울\"})"
   ]
  },
  {
   "cell_type": "code",
   "execution_count": null,
   "metadata": {
    "execution": {
     "iopub.execute_input": "2025-06-14T13:24:53.566774Z",
     "iopub.status.busy": "2025-06-14T13:24:53.566130Z",
     "iopub.status.idle": "2025-06-14T13:24:53.574976Z",
     "shell.execute_reply": "2025-06-14T13:24:53.574224Z",
     "shell.execute_reply.started": "2025-06-14T13:24:53.566741Z"
    }
   },
   "outputs": [],
   "source": [
    "#Create a service client by name using the default session.\n",
    "import json\n",
    "import os\n",
    "import sys\n",
    "\n",
    "import boto3\n",
    "import botocore\n",
    "from langchain_aws import ChatBedrock\n",
    "from langchain_core.output_parsers import StrOutputParser\n",
    "\n",
    "module_path = \"..\"\n",
    "sys.path.append(os.path.abspath(module_path))\n",
    "\n",
    "bedrock_client = boto3.client('bedrock-runtime',region_name=os.environ.get(\"AWS_DEFAULT_REGION\", None))\n",
    "model_id = \"anthropic.claude-3-sonnet-20240229-v1:0\"\n",
    "model_kwargs =  { \n",
    "        \"temperature\": 0,\n",
    "        \"top_p\": 1,\n",
    "}\n",
    "\n",
    "tools = [get_weather]\n",
    "\n",
    "llm = ChatBedrock(\n",
    "    client=bedrock_client,\n",
    "    model_id=model_id,\n",
    "    model_kwargs=model_kwargs,\n",
    ").bind_tools(tools)"
   ]
  },
  {
   "cell_type": "code",
   "execution_count": null,
   "metadata": {
    "execution": {
     "iopub.execute_input": "2025-06-14T13:25:17.259039Z",
     "iopub.status.busy": "2025-06-14T13:25:17.257600Z",
     "iopub.status.idle": "2025-06-14T13:25:19.714798Z",
     "shell.execute_reply": "2025-06-14T13:25:19.714164Z",
     "shell.execute_reply.started": "2025-06-14T13:25:17.258962Z"
    }
   },
   "outputs": [],
   "source": [
    "llm.invoke(\"안녕?\")"
   ]
  },
  {
   "cell_type": "code",
   "execution_count": null,
   "metadata": {
    "execution": {
     "iopub.execute_input": "2025-06-14T13:25:33.475968Z",
     "iopub.status.busy": "2025-06-14T13:25:33.475688Z",
     "iopub.status.idle": "2025-06-14T13:25:34.666858Z",
     "shell.execute_reply": "2025-06-14T13:25:34.666112Z",
     "shell.execute_reply.started": "2025-06-14T13:25:33.475946Z"
    }
   },
   "outputs": [],
   "source": [
    "llm.invoke(\"서울의 날씨는 어때?\")"
   ]
  },
  {
   "cell_type": "code",
   "execution_count": null,
   "metadata": {
    "execution": {
     "iopub.execute_input": "2025-06-14T13:29:16.118531Z",
     "iopub.status.busy": "2025-06-14T13:29:16.117999Z",
     "iopub.status.idle": "2025-06-14T13:29:16.122984Z",
     "shell.execute_reply": "2025-06-14T13:29:16.122244Z",
     "shell.execute_reply.started": "2025-06-14T13:29:16.118505Z"
    }
   },
   "outputs": [],
   "source": [
    "def call_model(state: MessagesState):\n",
    "    messages = state[\"messages\"]\n",
    "    response = llm.invoke(messages)\n",
    "    return {\"messages\": [response]}\n",
    "\n",
    "\n",
    "def should_continue(state: MessagesState) -> Literal[\"tools\", END]:\n",
    "    messages = state[\"messages\"]\n",
    "    last_message = messages[-1]\n",
    "    if last_message.tool_calls:\n",
    "        return \"tools\"\n",
    "    return END"
   ]
  },
  {
   "cell_type": "code",
   "execution_count": null,
   "metadata": {
    "execution": {
     "iopub.execute_input": "2025-06-14T13:29:18.189670Z",
     "iopub.status.busy": "2025-06-14T13:29:18.189322Z",
     "iopub.status.idle": "2025-06-14T13:29:18.195210Z",
     "shell.execute_reply": "2025-06-14T13:29:18.194433Z",
     "shell.execute_reply.started": "2025-06-14T13:29:18.189647Z"
    }
   },
   "outputs": [],
   "source": [
    "workflow = StateGraph(MessagesState)\n",
    "tool_node = ToolNode(tools)\n",
    "\n",
    "workflow.add_node(\"agent\", call_model)\n",
    "workflow.add_node(\"tools\", tool_node)"
   ]
  },
  {
   "cell_type": "code",
   "execution_count": null,
   "metadata": {
    "execution": {
     "iopub.execute_input": "2025-06-14T13:29:19.299673Z",
     "iopub.status.busy": "2025-06-14T13:29:19.299100Z",
     "iopub.status.idle": "2025-06-14T13:29:19.305291Z",
     "shell.execute_reply": "2025-06-14T13:29:19.304480Z",
     "shell.execute_reply.started": "2025-06-14T13:29:19.299645Z"
    }
   },
   "outputs": [],
   "source": [
    "workflow.add_edge(START, \"agent\")\n",
    "\n",
    "workflow.add_conditional_edges(\n",
    "    \"agent\",\n",
    "    should_continue,\n",
    ")\n",
    "workflow.add_edge(\"tools\", \"agent\")"
   ]
  },
  {
   "cell_type": "code",
   "execution_count": null,
   "metadata": {
    "execution": {
     "iopub.execute_input": "2025-06-14T13:29:22.063704Z",
     "iopub.status.busy": "2025-06-14T13:29:22.062967Z",
     "iopub.status.idle": "2025-06-14T13:29:22.068849Z",
     "shell.execute_reply": "2025-06-14T13:29:22.067835Z",
     "shell.execute_reply.started": "2025-06-14T13:29:22.063678Z"
    }
   },
   "outputs": [],
   "source": [
    "graph = workflow.compile()"
   ]
  },
  {
   "cell_type": "code",
   "execution_count": null,
   "metadata": {
    "execution": {
     "iopub.execute_input": "2025-06-14T13:29:23.515071Z",
     "iopub.status.busy": "2025-06-14T13:29:23.514794Z",
     "iopub.status.idle": "2025-06-14T13:29:23.563983Z",
     "shell.execute_reply": "2025-06-14T13:29:23.562843Z",
     "shell.execute_reply.started": "2025-06-14T13:29:23.515050Z"
    }
   },
   "outputs": [],
   "source": [
    "from IPython.display import Image, display\n",
    "from langchain_core.runnables.graph import MermaidDrawMethod\n",
    "\n",
    "display(\n",
    "    Image(\n",
    "        graph.get_graph().draw_mermaid_png(\n",
    "            draw_method=MermaidDrawMethod.API,\n",
    "        )\n",
    "    )\n",
    ")"
   ]
  },
  {
   "cell_type": "code",
   "execution_count": null,
   "metadata": {
    "execution": {
     "iopub.execute_input": "2025-06-14T13:30:16.584086Z",
     "iopub.status.busy": "2025-06-14T13:30:16.583815Z",
     "iopub.status.idle": "2025-06-14T13:30:16.588026Z",
     "shell.execute_reply": "2025-06-14T13:30:16.587269Z",
     "shell.execute_reply.started": "2025-06-14T13:30:16.584065Z"
    }
   },
   "outputs": [],
   "source": [
    "from langchain_core.messages import HumanMessage\n",
    "\n",
    "messages1 = [HumanMessage(content=\"안녕?\")]\n",
    "messages2 = [HumanMessage(content=\"서울의 날씨는 어때?\")]"
   ]
  },
  {
   "cell_type": "code",
   "execution_count": null,
   "metadata": {
    "execution": {
     "iopub.execute_input": "2025-06-14T13:30:17.954885Z",
     "iopub.status.busy": "2025-06-14T13:30:17.954539Z",
     "iopub.status.idle": "2025-06-14T13:30:21.918258Z",
     "shell.execute_reply": "2025-06-14T13:30:21.917536Z",
     "shell.execute_reply.started": "2025-06-14T13:30:17.954860Z"
    }
   },
   "outputs": [],
   "source": [
    "graph.invoke({\"messages\": messages1})"
   ]
  },
  {
   "cell_type": "code",
   "execution_count": null,
   "metadata": {
    "execution": {
     "iopub.execute_input": "2025-06-14T13:31:20.516747Z",
     "iopub.status.busy": "2025-06-14T13:31:20.516386Z",
     "iopub.status.idle": "2025-06-14T13:31:24.728816Z",
     "shell.execute_reply": "2025-06-14T13:31:24.727938Z",
     "shell.execute_reply.started": "2025-06-14T13:31:20.516725Z"
    }
   },
   "outputs": [],
   "source": [
    "graph.invoke(\n",
    "    {\n",
    "        \"messages\": [\n",
    "            HumanMessage(content=\"그 도시는 어떤게 유명해?\")\n",
    "        ]\n",
    "    }\n",
    ")"
   ]
  },
  {
   "cell_type": "markdown",
   "metadata": {},
   "source": [
    "### Add Memory to chatbot"
   ]
  },
  {
   "cell_type": "code",
   "execution_count": null,
   "metadata": {
    "execution": {
     "iopub.execute_input": "2025-06-14T13:34:15.656347Z",
     "iopub.status.busy": "2025-06-14T13:34:15.655986Z",
     "iopub.status.idle": "2025-06-14T13:34:15.662860Z",
     "shell.execute_reply": "2025-06-14T13:34:15.661964Z",
     "shell.execute_reply.started": "2025-06-14T13:34:15.656322Z"
    }
   },
   "outputs": [],
   "source": [
    "from langgraph.checkpoint.memory import MemorySaver\n",
    "\n",
    "checkpointer = MemorySaver()"
   ]
  },
  {
   "cell_type": "code",
   "execution_count": null,
   "metadata": {
    "execution": {
     "iopub.execute_input": "2025-06-14T13:34:33.149689Z",
     "iopub.status.busy": "2025-06-14T13:34:33.149078Z",
     "iopub.status.idle": "2025-06-14T13:34:33.155889Z",
     "shell.execute_reply": "2025-06-14T13:34:33.155099Z",
     "shell.execute_reply.started": "2025-06-14T13:34:33.149662Z"
    }
   },
   "outputs": [],
   "source": [
    "workflow = StateGraph(MessagesState)\n",
    "\n",
    "workflow.add_node(\"agent\", call_model)\n",
    "workflow.add_node(\"tools\", tool_node)\n",
    "\n",
    "workflow.add_edge(START, \"agent\")\n",
    "workflow.add_conditional_edges(\n",
    "    \"agent\",\n",
    "    should_continue,\n",
    ")\n",
    "workflow.add_edge(\"tools\", \"agent\")\n",
    "\n",
    "graph = workflow.compile(checkpointer=checkpointer)"
   ]
  },
  {
   "cell_type": "code",
   "execution_count": null,
   "metadata": {
    "execution": {
     "iopub.execute_input": "2025-06-14T13:34:45.154402Z",
     "iopub.status.busy": "2025-06-14T13:34:45.154118Z",
     "iopub.status.idle": "2025-06-14T13:34:48.926295Z",
     "shell.execute_reply": "2025-06-14T13:34:48.925558Z",
     "shell.execute_reply.started": "2025-06-14T13:34:45.154380Z"
    }
   },
   "outputs": [],
   "source": [
    "graph.invoke(\n",
    "    {\"messages\": [HumanMessage(content=\"서울의 날씨는 어때?\")]},\n",
    "    config={\"configurable\": {\"thread_id\": 1}},\n",
    ")"
   ]
  },
  {
   "cell_type": "code",
   "execution_count": null,
   "metadata": {
    "execution": {
     "iopub.execute_input": "2025-06-14T13:35:06.560940Z",
     "iopub.status.busy": "2025-06-14T13:35:06.560106Z"
    }
   },
   "outputs": [],
   "source": [
    "graph.invoke(\n",
    "    {\n",
    "        \"messages\": [\n",
    "            HumanMessage(content=\"그 도시는 어떤게 유명해?\")\n",
    "        ]\n",
    "    },\n",
    "    config={\"configurable\": {\"thread_id\": 1}},\n",
    ")"
   ]
  },
  {
   "cell_type": "code",
   "execution_count": null,
   "metadata": {},
   "outputs": [],
   "source": []
  }
 ],
 "metadata": {
  "kernelspec": {
   "display_name": "base",
   "language": "python",
   "name": "python3"
  },
  "language_info": {
   "codemirror_mode": {
    "name": "ipython",
    "version": 3
   },
   "file_extension": ".py",
   "mimetype": "text/x-python",
   "name": "python",
   "nbconvert_exporter": "python",
   "pygments_lexer": "ipython3",
   "version": "3.12.7"
  }
 },
 "nbformat": 4,
 "nbformat_minor": 4
}
